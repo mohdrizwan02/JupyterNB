{
 "cells": [
  {
   "cell_type": "markdown",
   "id": "4363483e-2674-46dd-833b-8dfd8b96d194",
   "metadata": {},
   "source": [
    "# TITLE : \"Data Science Tools and Ecosystem\""
   ]
  },
  {
   "cell_type": "markdown",
   "id": "f0c55cb8-301e-4b15-9b50-5e41f28ee4dc",
   "metadata": {},
   "source": [
    " INTRO : \"In this notebook, Data Science Tools and Ecosystem are summarized.\"\n",
    "**Objectives:**\n",
    "- List popular languages for Data Science\n",
    "- List popular libraries for Data Science\n",
    "- List popular tools for Data Science\n",
    "- arithematic examples"
   ]
  },
  {
   "cell_type": "markdown",
   "id": "95a09c8b-33bd-447a-a159-27167072b063",
   "metadata": {},
   "source": [
    " Some of the popular languages that Data Scientists use are:\n",
    "1. python\n",
    "2. julia\n",
    "3. R\n",
    "4. scala"
   ]
  },
  {
   "cell_type": "markdown",
   "id": "db4acbe5-1b35-4fbd-badf-fa784d31cb8d",
   "metadata": {},
   "source": [
    " Some of the commonly used libraries used by Data Scientists include:\n",
    "1. pandas\n",
    "2. numpy\n",
    "3. scikit-learn\n",
    "4. matplotlib"
   ]
  },
  {
   "cell_type": "markdown",
   "id": "15bad1f2-039a-4562-b5a2-ed7e473feb0f",
   "metadata": {},
   "source": [
    "| Data Science Tools |\n",
    "|-----|\n",
    "|apache spark |\n",
    "|apache hive |\n",
    "|hadoop | \n",
    "|jupyter lab |"
   ]
  },
  {
   "cell_type": "markdown",
   "id": "2e9e1ed8-f72a-4116-a62d-71a82aadf04e",
   "metadata": {},
   "source": [
    "### Below are a few examples of evaluating arithmetic expressions in Python"
   ]
  },
  {
   "cell_type": "code",
   "execution_count": 2,
   "id": "8ac483f3-99e2-4f37-9dd8-da2c1f2f5792",
   "metadata": {
    "tags": []
   },
   "outputs": [
    {
     "data": {
      "text/plain": [
       "17"
      ]
     },
     "execution_count": 2,
     "metadata": {},
     "output_type": "execute_result"
    }
   ],
   "source": [
    "# This a simple arithmetic expression to mutiply then add integers\n",
    "(3*4)+5"
   ]
  },
  {
   "cell_type": "code",
   "execution_count": 3,
   "id": "e6cc4f76-ea94-4555-a5f2-00b84e2821b1",
   "metadata": {
    "tags": []
   },
   "outputs": [
    {
     "data": {
      "text/plain": [
       "3"
      ]
     },
     "execution_count": 3,
     "metadata": {},
     "output_type": "execute_result"
    }
   ],
   "source": [
    "# This will convert 200 minutes to hours by diving by 60\n",
    "200//60"
   ]
  },
  {
   "cell_type": "markdown",
   "id": "ee45fd88-c062-498c-94bd-8d63c417e23c",
   "metadata": {},
   "source": [
    "## Author\n",
    "MOHAMMAD RIZWAN"
   ]
  },
  {
   "cell_type": "code",
   "execution_count": null,
   "id": "5f63e11d-b229-4004-ba07-7aa1ef938906",
   "metadata": {},
   "outputs": [],
   "source": []
  }
 ],
 "metadata": {
  "kernelspec": {
   "display_name": "Python",
   "language": "python",
   "name": "conda-env-python-py"
  },
  "language_info": {
   "codemirror_mode": {
    "name": "ipython",
    "version": 3
   },
   "file_extension": ".py",
   "mimetype": "text/x-python",
   "name": "python",
   "nbconvert_exporter": "python",
   "pygments_lexer": "ipython3",
   "version": "3.7.12"
  }
 },
 "nbformat": 4,
 "nbformat_minor": 5
}
